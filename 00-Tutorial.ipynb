{
 "cells": [
  {
   "cell_type": "code",
   "execution_count": null,
   "metadata": {},
   "outputs": [],
   "source": [
    "#importo las libreiras necesarias\n",
    "import os\n",
    "import sys\n",
    "import datetime as dt\n",
    "\n",
    "import pandas as pd\n",
    "import numpy as np\n",
    "import matplotlib.pyplot as plt\n",
    "import matplotlib as mpl\n",
    "from IPython.display import display\n",
    "from pandas.tools.plotting import scatter_matrix\n",
    "import pandas.plotting\n",
    "#plt.style.use('bmh')\n",
    "\n",
    "%matplotlib inline"
   ]
  },
  {
   "cell_type": "code",
   "execution_count": null,
   "metadata": {},
   "outputs": [],
   "source": [
    "print('Version de pyton')\n",
    "print(sys.version)\n",
    "print()\n",
    "print(\"Pandas Version:\", pd.__version__)\n",
    "print(\"Numpy Version\",np.__version__)\n",
    "print(\"Matplotlib Version:\", mpl.__version__)"
   ]
  },
  {
   "cell_type": "code",
   "execution_count": null,
   "metadata": {},
   "outputs": [],
   "source": [
    "#Lectura de los datos contenidos en el archivo>> model.txt\n",
    "ipath = os.path.join('Datos', 'model.txt')\n",
    "\n",
    "modelo = pd.read_csv(ipath, sep = \"\\s+\", skiprows = 3,engine='python',\n",
    "                    parse_dates = {'Timestamp': [0, 1]}, index_col = 'Timestamp')"
   ]
  },
  {
   "cell_type": "code",
   "execution_count": null,
   "metadata": {},
   "outputs": [],
   "source": [
    "#Las cinco primeras filas del archivo\n",
    "modelo.head()"
   ]
  },
  {
   "cell_type": "code",
   "execution_count": null,
   "metadata": {},
   "outputs": [],
   "source": [
    "#pd.tools.plotting.scatter_matrix(modelo.ix[0:100,'M(m/s)':'D(deg)'])\n",
    "pandas.plotting.scatter_matrix(modelo.iloc[0:1000, 0:2])"
   ]
  },
  {
   "cell_type": "code",
   "execution_count": null,
   "metadata": {},
   "outputs": [],
   "source": [
    "print(modelo.index[0],modelo.index[-1], sep='\\n')"
   ]
  },
  {
   "cell_type": "code",
   "execution_count": null,
   "metadata": {},
   "outputs": [],
   "source": [
    "modelo.mean()"
   ]
  },
  {
   "cell_type": "code",
   "execution_count": null,
   "metadata": {},
   "outputs": [],
   "source": [
    "modelo.max()"
   ]
  },
  {
   "cell_type": "code",
   "execution_count": null,
   "metadata": {},
   "outputs": [],
   "source": [
    "ind = modelo.loc[:,'M(m/s)'].sort_values(ascending = False).index\n",
    "print(ind)"
   ]
  },
  {
   "cell_type": "code",
   "execution_count": null,
   "metadata": {},
   "outputs": [],
   "source": [
    "#Tutorial pd.tools.plotting.scatter_matrix(model.loc[idx[:1000], 'M(m/s)':'D(deg)'])\n",
    "pandas.plotting.scatter_matrix(modelo.loc[ind[:1000], ['M(m/s)','D(deg)']])"
   ]
  },
  {
   "cell_type": "code",
   "execution_count": null,
   "metadata": {},
   "outputs": [],
   "source": [
    "modelo.loc[:, 'M(m/s)'].plot.hist(bins = np.arange(0, 30))"
   ]
  },
  {
   "cell_type": "code",
   "execution_count": null,
   "metadata": {},
   "outputs": [],
   "source": [
    "modelo['month'] = modelo.index.month\n",
    "modelo['year'] = modelo.index.year"
   ]
  },
  {
   "cell_type": "code",
   "execution_count": null,
   "metadata": {},
   "outputs": [],
   "source": [
    "modelo.groupby(by=['year','month']).mean().plot(y= 'M(m/s)', figsize = (15,5))"
   ]
  },
  {
   "cell_type": "code",
   "execution_count": null,
   "metadata": {},
   "outputs": [],
   "source": [
    "monthly = modelo.groupby(by = ['year', 'month']).mean()\n",
    "monthly['ma'] = monthly.loc[:, 'M(m/s)'].rolling(5, center = True).mean()\n",
    "monthly.head()"
   ]
  },
  {
   "cell_type": "code",
   "execution_count": null,
   "metadata": {},
   "outputs": [],
   "source": [
    "monthly.loc[:,['M(m/s)', 'ma']].plot(figsize = (15, 6))"
   ]
  },
  {
   "cell_type": "code",
   "execution_count": null,
   "metadata": {},
   "outputs": [],
   "source": [
    "monthly.loc[:, 'M(m/s)'].reset_index().pivot(index = 'year', columns = 'month')"
   ]
  },
  {
   "cell_type": "code",
   "execution_count": null,
   "metadata": {},
   "outputs": [],
   "source": [
    "(monthly.loc[:, 'M(m/s)'].reset_index().pivot(\n",
    "    index = 'year', \n",
    "        columns = 'month'\n",
    "    ).T.plot(\n",
    "        figsize = (15, 10), \n",
    "        legend = False\n",
    "    )\n",
    " )"
   ]
  },
  {
   "cell_type": "code",
   "execution_count": null,
   "metadata": {},
   "outputs": [],
   "source": []
  }
 ],
 "metadata": {
  "kernelspec": {
   "display_name": "Python 3",
   "language": "python",
   "name": "python3"
  },
  "language_info": {
   "codemirror_mode": {
    "name": "ipython",
    "version": 3
   },
   "file_extension": ".py",
   "mimetype": "text/x-python",
   "name": "python",
   "nbconvert_exporter": "python",
   "pygments_lexer": "ipython3",
   "version": "3.6.5"
  }
 },
 "nbformat": 4,
 "nbformat_minor": 2
}
